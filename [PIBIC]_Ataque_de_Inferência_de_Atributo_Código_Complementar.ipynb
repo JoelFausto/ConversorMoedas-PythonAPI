{
  "cells": [
    {
      "cell_type": "markdown",
      "metadata": {
        "id": "CKMEWyLrDbqt"
      },
      "source": [
        "### Importando bibliotecas"
      ]
    },
    {
      "cell_type": "code",
      "execution_count": null,
      "metadata": {
        "colab": {
          "base_uri": "https://localhost:8080/"
        },
        "id": "lPoL13i-3Qhp",
        "outputId": "c6897e73-af92-4cc8-ba27-24caf64eba56"
      },
      "outputs": [
        {
          "output_type": "stream",
          "name": "stdout",
          "text": [
            "Mounted at /content/drive\n"
          ]
        }
      ],
      "source": [
        "from google.colab import drive\n",
        "drive.mount('/content/drive')"
      ]
    },
    {
      "cell_type": "code",
      "execution_count": null,
      "metadata": {
        "colab": {
          "base_uri": "https://localhost:8080/"
        },
        "id": "s6QxpiIGDar8",
        "outputId": "45098e21-923a-490c-fc35-5f45821cd832"
      },
      "outputs": [
        {
          "output_type": "stream",
          "name": "stdout",
          "text": [
            "Requirement already satisfied: plotly in /usr/local/lib/python3.11/dist-packages (5.24.1)\n",
            "Collecting plotly\n",
            "  Downloading plotly-6.0.0-py3-none-any.whl.metadata (5.6 kB)\n",
            "Requirement already satisfied: narwhals>=1.15.1 in /usr/local/lib/python3.11/dist-packages (from plotly) (1.28.0)\n",
            "Requirement already satisfied: packaging in /usr/local/lib/python3.11/dist-packages (from plotly) (24.2)\n",
            "Downloading plotly-6.0.0-py3-none-any.whl (14.8 MB)\n",
            "\u001b[2K   \u001b[90m━━━━━━━━━━━━━━━━━━━━━━━━━━━━━━━━━━━━━━━━\u001b[0m \u001b[32m14.8/14.8 MB\u001b[0m \u001b[31m48.2 MB/s\u001b[0m eta \u001b[36m0:00:00\u001b[0m\n",
            "\u001b[?25hInstalling collected packages: plotly\n",
            "  Attempting uninstall: plotly\n",
            "    Found existing installation: plotly 5.24.1\n",
            "    Uninstalling plotly-5.24.1:\n",
            "      Successfully uninstalled plotly-5.24.1\n",
            "Successfully installed plotly-6.0.0\n"
          ]
        }
      ],
      "source": [
        "!pip install plotly --upgrade"
      ]
    },
    {
      "cell_type": "code",
      "execution_count": null,
      "metadata": {
        "id": "i7rwjldFm8Qa"
      },
      "outputs": [],
      "source": [
        "import pandas as pd\n",
        "from collections import Counter\n",
        "import time"
      ]
    },
    {
      "cell_type": "markdown",
      "metadata": {
        "id": "3IKXcBUqmIrk"
      },
      "source": [
        "### Dados"
      ]
    },
    {
      "cell_type": "code",
      "execution_count": null,
      "metadata": {
        "id": "-Ora7GEav3kW"
      },
      "outputs": [],
      "source": [
        "pd.set_option('display.max_columns', None)"
      ]
    },
    {
      "cell_type": "code",
      "execution_count": null,
      "metadata": {
        "id": "0aPQCLf5mKvk"
      },
      "outputs": [],
      "source": [
        "colunas_desejadas = ['ID_ALUNO', 'IN_FINANCIAMENTO_ESTUDANTIL','IN_DEFICIENCIA', 'NU_DIA_NASCIMENTO', 'NU_MES_NASCIMENTO', 'NU_ANO_NASCIMENTO', 'TP_SEXO', 'TP_COR_RACA', 'CO_MUNICIPIO_NASCIMENTO', 'TP_NACIONALIDADE', 'CO_PAIS_ORIGEM', 'CO_IES', 'CO_CURSO']"
      ]
    },
    {
      "cell_type": "code",
      "execution_count": null,
      "metadata": {
        "id": "SLDg9xtcmL_c"
      },
      "outputs": [],
      "source": [
        "# Carregando dataset do Drive (O Colab não suporta upload de datasets muito grandes, por isso deve vir direto do Drive)\n",
        "microdados = pd.read_parquet('/content/drive/MyDrive/PIBIC/dataCenso2018_colunasEspecificas3.parquet')"
      ]
    },
    {
      "cell_type": "code",
      "execution_count": null,
      "metadata": {
        "id": "hAnAwP-RmdJM"
      },
      "outputs": [],
      "source": [
        "# Removendo Duplicatas\n",
        "microdados = microdados.drop_duplicates(subset=['ID_ALUNO'])"
      ]
    },
    {
      "cell_type": "markdown",
      "metadata": {
        "id": "FQX0E1JHmvbJ"
      },
      "source": [
        "### Ataque de Inferência de Atributo - Baseado em Anexos do Produto 02 do TED 8750 - PRICE"
      ]
    },
    {
      "cell_type": "markdown",
      "metadata": {
        "id": "a-6UZYWGIwkW"
      },
      "source": [
        "#### Código baseado nos conceitos matemáticos (TED)"
      ]
    },
    {
      "cell_type": "code",
      "execution_count": null,
      "metadata": {
        "id": "yWHeOpL-25-Z"
      },
      "outputs": [],
      "source": [
        "def suc_prior_deterministic(data, sensitive_attr):\n",
        "    \"\"\"\n",
        "    Sucesso determinístico a priori do adversário em um ataque ACU.\n",
        "    \"\"\"\n",
        "    sensitive_values = data[sensitive_attr].unique()\n",
        "    return 1 if len(sensitive_values) == 1 else 0\n",
        "\n",
        "def suc_post_deterministic(data, qid_attrs, sensitive_attr):\n",
        "    \"\"\"\n",
        "    Sucesso determinístico a posteriori do adversário em um ataque ACU.\n",
        "    \"\"\"\n",
        "    groups = data.groupby(qid_attrs, dropna=False)  # Agrupa pelos QID e inclui NaN como grupo distinto\n",
        "    total_records = len(data)  # Número total de registros\n",
        "    success_count = 0  # Contador de sucessos\n",
        "\n",
        "    for _, group in groups:  # Percorre cada grupo\n",
        "        if len(group[sensitive_attr].unique()) == 1:  # Se o grupo tem apenas 1 valor sensível\n",
        "            success_count += len(group)  # Conta todos os registros do grupo como sucesso\n",
        "\n",
        "    return success_count / total_records  # Retorna a proporção de acertos\n",
        "\n",
        "def suc_prior_probabilistic(data, sensitive_attr):\n",
        "    \"\"\"\n",
        "    Sucesso probabilístico a priori do adversário em um ataque ACU.\n",
        "    \"\"\"\n",
        "    value_counts = data[sensitive_attr].value_counts()\n",
        "    total_records = len(data)\n",
        "    return value_counts.max() / total_records if total_records > 0 else 0\n",
        "\n",
        "def suc_post_probabilistic(data, qid_attrs, sensitive_attr):\n",
        "    \"\"\"\n",
        "    Sucesso probabilístico a posteriori do adversário em um ataque ACU.\n",
        "    \"\"\"\n",
        "    groups = data.groupby(qid_attrs, dropna=False)  # Inclui NaN como grupo distinto\n",
        "    total_records = len(data)\n",
        "    total_success = 0\n",
        "\n",
        "    for _, group in groups:\n",
        "        group_size = len(group)\n",
        "        if group_size > 0:\n",
        "            value_counts = group[sensitive_attr].value_counts(dropna=False)  # Inclui NaN ao contar\n",
        "            total_success += value_counts.max()\n",
        "\n",
        "    return total_success / total_records if total_records > 0 else 0\n",
        "\n",
        "def degradation_privacy_deterministic(data, qid_attrs, sensitive_attr):\n",
        "    \"\"\"\n",
        "    Degradação determinística de privacidade em um ataque ACU.\n",
        "    \"\"\"\n",
        "    prior = suc_prior_deterministic(data, sensitive_attr)\n",
        "    post = suc_post_deterministic(data, qid_attrs, sensitive_attr)\n",
        "    return post - prior\n",
        "\n",
        "def degradation_privacy_probabilistic(data, qid_attrs, sensitive_attr):\n",
        "    \"\"\"\n",
        "    Degradação probabilística de privacidade em um ataque ACU.\n",
        "    \"\"\"\n",
        "    prior = suc_prior_probabilistic(data, sensitive_attr)\n",
        "    post = suc_post_probabilistic(data, qid_attrs, sensitive_attr)\n",
        "    return post / prior if prior > 0 else 0"
      ]
    },
    {
      "cell_type": "markdown",
      "source": [
        "##### IN_FINANCIAMENTO_ESTUDANTIL"
      ],
      "metadata": {
        "id": "CZgi7luqJFcD"
      }
    },
    {
      "cell_type": "markdown",
      "source": [
        "###### Replicando"
      ],
      "metadata": {
        "id": "bOpbsCMiJIwC"
      }
    },
    {
      "cell_type": "code",
      "source": [
        "qid_attrs = ['CO_CURSO']\n",
        "sensitive_attr = 'IN_FINANCIAMENTO_ESTUDANTIL'\n",
        "data = microdados\n",
        "\n",
        "start_time = time.time()\n",
        "\n",
        "sucesso_priori_deterministic = suc_prior_deterministic(data, sensitive_attr)\n",
        "sucesso_priori_probabilistic = suc_prior_probabilistic(data, sensitive_attr)\n",
        "sucesso_post_deterministico = suc_post_deterministic(data, qid_attrs, sensitive_attr)\n",
        "sucesso_post_probabilistico = suc_post_probabilistic(data, qid_attrs, sensitive_attr)\n",
        "\n",
        "end_time = time.time()\n",
        "execution_time = end_time - start_time\n",
        "\n",
        "print(\"Sucesso determinístico a priori:\", sucesso_priori_deterministic)\n",
        "print(\"Sucesso determinístico a posteriori:\", sucesso_post_deterministico)\n",
        "print(\"Degradação determinística de privacidade:\", sucesso_post_deterministico - sucesso_priori_deterministic)\n",
        "\n",
        "print(\"Sucesso probabilístico a priori:\", sucesso_priori_probabilistic)\n",
        "print(\"Sucesso probabilístico a posteriori:\", sucesso_post_probabilistico)\n",
        "print(\"Degradação probabilística de privacidade:\", sucesso_post_probabilistico / sucesso_priori_probabilistic)\n",
        "\n",
        "print(\"Tempo de execução:\", execution_time, \"segundos\")"
      ],
      "metadata": {
        "id": "TZhz6fazpigp"
      },
      "execution_count": null,
      "outputs": []
    },
    {
      "cell_type": "code",
      "source": [
        "qid_attrs = ['CO_MUNICIPIO_NASCIMENTO', 'CO_CURSO']\n",
        "sensitive_attr = 'IN_FINANCIAMENTO_ESTUDANTIL'\n",
        "data = microdados\n",
        "\n",
        "start_time = time.time()\n",
        "\n",
        "sucesso_priori_deterministic = suc_prior_deterministic(data, sensitive_attr)\n",
        "sucesso_priori_probabilistic = suc_prior_probabilistic(data, sensitive_attr)\n",
        "sucesso_post_deterministico = suc_post_deterministic(data, qid_attrs, sensitive_attr)\n",
        "sucesso_post_probabilistico = suc_post_probabilistic(data, qid_attrs, sensitive_attr)\n",
        "\n",
        "end_time = time.time()\n",
        "execution_time = end_time - start_time\n",
        "\n",
        "print(\"Sucesso determinístico a priori:\", sucesso_priori_deterministic)\n",
        "print(\"Sucesso determinístico a posteriori:\", sucesso_post_deterministico)\n",
        "print(\"Degradação determinística de privacidade:\", sucesso_post_deterministico - sucesso_priori_deterministic)\n",
        "\n",
        "print(\"Sucesso probabilístico a priori:\", sucesso_priori_probabilistic)\n",
        "print(\"Sucesso probabilístico a posteriori:\", sucesso_post_probabilistico)\n",
        "print(\"Degradação probabilística de privacidade:\", sucesso_post_probabilistico / sucesso_priori_probabilistic)\n",
        "\n",
        "print(\"Tempo de execução:\", execution_time, \"segundos\")"
      ],
      "metadata": {
        "id": "pv1pibzrqOK5"
      },
      "execution_count": null,
      "outputs": []
    },
    {
      "cell_type": "code",
      "source": [
        "qid_attrs = ['NU_DIA_NASCIMENTO', 'CO_CURSO']\n",
        "sensitive_attr = 'IN_FINANCIAMENTO_ESTUDANTIL'\n",
        "data = microdados\n",
        "\n",
        "start_time = time.time()\n",
        "\n",
        "sucesso_priori_deterministic = suc_prior_deterministic(data, sensitive_attr)\n",
        "sucesso_priori_probabilistic = suc_prior_probabilistic(data, sensitive_attr)\n",
        "sucesso_post_deterministico = suc_post_deterministic(data, qid_attrs, sensitive_attr)\n",
        "sucesso_post_probabilistico = suc_post_probabilistic(data, qid_attrs, sensitive_attr)\n",
        "\n",
        "end_time = time.time()\n",
        "execution_time = end_time - start_time\n",
        "\n",
        "print(\"Sucesso determinístico a priori:\", sucesso_priori_deterministic)\n",
        "print(\"Sucesso determinístico a posteriori:\", sucesso_post_deterministico)\n",
        "print(\"Degradação determinística de privacidade:\", sucesso_post_deterministico - sucesso_priori_deterministic)\n",
        "\n",
        "print(\"Sucesso probabilístico a priori:\", sucesso_priori_probabilistic)\n",
        "print(\"Sucesso probabilístico a posteriori:\", sucesso_post_probabilistico)\n",
        "print(\"Degradação probabilística de privacidade:\", sucesso_post_probabilistico / sucesso_priori_probabilistic)\n",
        "\n",
        "print(\"Tempo de execução:\", execution_time, \"segundos\")"
      ],
      "metadata": {
        "id": "E5gJu_NMqTPp"
      },
      "execution_count": null,
      "outputs": []
    },
    {
      "cell_type": "code",
      "source": [
        "qid_attrs = ['NU_DIA_NASCIMENTO', 'NU_ANO_NASCIMENTO', 'CO_CURSO']\n",
        "sensitive_attr = 'IN_FINANCIAMENTO_ESTUDANTIL'\n",
        "data = microdados\n",
        "\n",
        "start_time = time.time()\n",
        "\n",
        "sucesso_priori_deterministic = suc_prior_deterministic(data, sensitive_attr)\n",
        "sucesso_priori_probabilistic = suc_prior_probabilistic(data, sensitive_attr)\n",
        "sucesso_post_deterministico = suc_post_deterministic(data, qid_attrs, sensitive_attr)\n",
        "sucesso_post_probabilistico = suc_post_probabilistic(data, qid_attrs, sensitive_attr)\n",
        "\n",
        "end_time = time.time()\n",
        "execution_time = end_time - start_time\n",
        "\n",
        "print(\"Sucesso determinístico a priori:\", sucesso_priori_deterministic)\n",
        "print(\"Sucesso determinístico a posteriori:\", sucesso_post_deterministico)\n",
        "print(\"Degradação determinística de privacidade:\", sucesso_post_deterministico - sucesso_priori_deterministic)\n",
        "\n",
        "print(\"Sucesso probabilístico a priori:\", sucesso_priori_probabilistic)\n",
        "print(\"Sucesso probabilístico a posteriori:\", sucesso_post_probabilistico)\n",
        "print(\"Degradação probabilística de privacidade:\", sucesso_post_probabilistico / sucesso_priori_probabilistic)\n",
        "\n",
        "print(\"Tempo de execução:\", execution_time, \"segundos\")"
      ],
      "metadata": {
        "id": "uPgDFWyCqZZJ"
      },
      "execution_count": null,
      "outputs": []
    },
    {
      "cell_type": "code",
      "execution_count": null,
      "metadata": {
        "id": "Y5BJ27TPiUec"
      },
      "outputs": [],
      "source": [
        "qid_attrs = ['NU_DIA_NASCIMENTO', 'NU_MES_NASCIMENTO', 'NU_ANO_NASCIMENTO', 'CO_CURSO']\n",
        "sensitive_attr = 'IN_FINANCIAMENTO_ESTUDANTIL'\n",
        "data = microdados\n",
        "\n",
        "start_time = time.time()\n",
        "\n",
        "sucesso_priori_deterministic = suc_prior_deterministic(data, sensitive_attr)\n",
        "sucesso_priori_probabilistic = suc_prior_probabilistic(data, sensitive_attr)\n",
        "sucesso_post_deterministico = suc_post_deterministic(data, qid_attrs, sensitive_attr)\n",
        "sucesso_post_probabilistico = suc_post_probabilistic(data, qid_attrs, sensitive_attr)\n",
        "\n",
        "end_time = time.time()\n",
        "execution_time = end_time - start_time\n",
        "\n",
        "print(\"Sucesso determinístico a priori:\", sucesso_priori_deterministic)\n",
        "print(\"Sucesso determinístico a posteriori:\", sucesso_post_deterministico)\n",
        "print(\"Degradação determinística de privacidade:\", sucesso_post_deterministico - sucesso_priori_deterministic)\n",
        "\n",
        "print(\"Sucesso probabilístico a priori:\", sucesso_priori_probabilistic)\n",
        "print(\"Sucesso probabilístico a posteriori:\", sucesso_post_probabilistico)\n",
        "print(\"Degradação probabilística de privacidade:\", sucesso_post_probabilistico / sucesso_priori_probabilistic)\n",
        "\n",
        "print(\"Tempo de execução:\", execution_time, \"segundos\")"
      ]
    },
    {
      "cell_type": "code",
      "source": [
        "qid_attrs = ['NU_DIA_NASCIMENTO', 'NU_MES_NASCIMENTO', 'NU_ANO_NASCIMENTO', 'CO_MUNICIPIO_NASCIMENTO', 'CO_CURSO']\n",
        "sensitive_attr = 'IN_FINANCIAMENTO_ESTUDANTIL'\n",
        "data = microdados\n",
        "\n",
        "start_time = time.time()\n",
        "\n",
        "sucesso_priori_deterministic = suc_prior_deterministic(data, sensitive_attr)\n",
        "sucesso_priori_probabilistic = suc_prior_probabilistic(data, sensitive_attr)\n",
        "sucesso_post_deterministico = suc_post_deterministic(data, qid_attrs, sensitive_attr)\n",
        "sucesso_post_probabilistico = suc_post_probabilistic(data, qid_attrs, sensitive_attr)\n",
        "\n",
        "end_time = time.time()\n",
        "execution_time = end_time - start_time\n",
        "\n",
        "print(\"Sucesso determinístico a priori:\", sucesso_priori_deterministic)\n",
        "print(\"Sucesso determinístico a posteriori:\", sucesso_post_deterministico)\n",
        "print(\"Degradação determinística de privacidade:\", sucesso_post_deterministico - sucesso_priori_deterministic)\n",
        "\n",
        "print(\"Sucesso probabilístico a priori:\", sucesso_priori_probabilistic)\n",
        "print(\"Sucesso probabilístico a posteriori:\", sucesso_post_probabilistico)\n",
        "print(\"Degradação probabilística de privacidade:\", sucesso_post_probabilistico / sucesso_priori_probabilistic)\n",
        "\n",
        "print(\"Tempo de execução:\", execution_time, \"segundos\")"
      ],
      "metadata": {
        "id": "1OtFKsqPqeHS"
      },
      "execution_count": null,
      "outputs": []
    },
    {
      "cell_type": "code",
      "source": [
        "qid_attrs = ['NU_DIA_NASCIMENTO', 'NU_MES_NASCIMENTO', 'NU_ANO_NASCIMENTO', 'TP_COR_RACA', 'CO_MUNICIPIO_NASCIMENTO', 'CO_CURSO']\n",
        "sensitive_attr = 'IN_FINANCIAMENTO_ESTUDANTIL'\n",
        "data = microdados\n",
        "\n",
        "start_time = time.time()\n",
        "\n",
        "sucesso_priori_deterministic = suc_prior_deterministic(data, sensitive_attr)\n",
        "sucesso_priori_probabilistic = suc_prior_probabilistic(data, sensitive_attr)\n",
        "sucesso_post_deterministico = suc_post_deterministic(data, qid_attrs, sensitive_attr)\n",
        "sucesso_post_probabilistico = suc_post_probabilistic(data, qid_attrs, sensitive_attr)\n",
        "\n",
        "end_time = time.time()\n",
        "execution_time = end_time - start_time\n",
        "\n",
        "print(\"Sucesso determinístico a priori:\", sucesso_priori_deterministic)\n",
        "print(\"Sucesso determinístico a posteriori:\", sucesso_post_deterministico)\n",
        "print(\"Degradação determinística de privacidade:\", sucesso_post_deterministico - sucesso_priori_deterministic)\n",
        "\n",
        "print(\"Sucesso probabilístico a priori:\", sucesso_priori_probabilistic)\n",
        "print(\"Sucesso probabilístico a posteriori:\", sucesso_post_probabilistico)\n",
        "print(\"Degradação probabilística de privacidade:\", sucesso_post_probabilistico / sucesso_priori_probabilistic)\n",
        "\n",
        "print(\"Tempo de execução:\", execution_time, \"segundos\")"
      ],
      "metadata": {
        "id": "hZy1vq8tqenR"
      },
      "execution_count": null,
      "outputs": []
    },
    {
      "cell_type": "code",
      "source": [
        "qid_attrs = ['NU_DIA_NASCIMENTO', 'NU_MES_NASCIMENTO', 'NU_ANO_NASCIMENTO', 'TP_SEXO', 'TP_COR_RACA', 'CO_MUNICIPIO_NASCIMENTO', 'CO_CURSO']\n",
        "sensitive_attr = 'IN_FINANCIAMENTO_ESTUDANTIL'\n",
        "data = microdados\n",
        "\n",
        "start_time = time.time()\n",
        "\n",
        "sucesso_priori_deterministic = suc_prior_deterministic(data, sensitive_attr)\n",
        "sucesso_priori_probabilistic = suc_prior_probabilistic(data, sensitive_attr)\n",
        "sucesso_post_deterministico = suc_post_deterministic(data, qid_attrs, sensitive_attr)\n",
        "sucesso_post_probabilistico = suc_post_probabilistic(data, qid_attrs, sensitive_attr)\n",
        "\n",
        "end_time = time.time()\n",
        "execution_time = end_time - start_time\n",
        "\n",
        "print(\"Sucesso determinístico a priori:\", sucesso_priori_deterministic)\n",
        "print(\"Sucesso determinístico a posteriori:\", sucesso_post_deterministico)\n",
        "print(\"Degradação determinística de privacidade:\", sucesso_post_deterministico - sucesso_priori_deterministic)\n",
        "\n",
        "print(\"Sucesso probabilístico a priori:\", sucesso_priori_probabilistic)\n",
        "print(\"Sucesso probabilístico a posteriori:\", sucesso_post_probabilistico)\n",
        "print(\"Degradação probabilística de privacidade:\", sucesso_post_probabilistico / sucesso_priori_probabilistic)\n",
        "\n",
        "print(\"Tempo de execução:\", execution_time, \"segundos\")"
      ],
      "metadata": {
        "id": "InhhWaNDqfIg"
      },
      "execution_count": null,
      "outputs": []
    },
    {
      "cell_type": "code",
      "source": [
        "qid_attrs = ['NU_DIA_NASCIMENTO', 'NU_MES_NASCIMENTO', 'NU_ANO_NASCIMENTO', 'TP_SEXO', 'TP_COR_RACA', 'CO_MUNICIPIO_NASCIMENTO', 'CO_CURSO', 'TP_ESCOLA_CONCLUSAO_ENS_MEDIO']\n",
        "sensitive_attr = 'IN_FINANCIAMENTO_ESTUDANTIL'\n",
        "data = microdados\n",
        "\n",
        "start_time = time.time()\n",
        "\n",
        "sucesso_priori_deterministic = suc_prior_deterministic(data, sensitive_attr)\n",
        "sucesso_priori_probabilistic = suc_prior_probabilistic(data, sensitive_attr)\n",
        "sucesso_post_deterministico = suc_post_deterministic(data, qid_attrs, sensitive_attr)\n",
        "sucesso_post_probabilistico = suc_post_probabilistic(data, qid_attrs, sensitive_attr)\n",
        "\n",
        "end_time = time.time()\n",
        "execution_time = end_time - start_time\n",
        "\n",
        "print(\"Sucesso determinístico a priori:\", sucesso_priori_deterministic)\n",
        "print(\"Sucesso determinístico a posteriori:\", sucesso_post_deterministico)\n",
        "print(\"Degradação determinística de privacidade:\", sucesso_post_deterministico - sucesso_priori_deterministic)\n",
        "\n",
        "print(\"Sucesso probabilístico a priori:\", sucesso_priori_probabilistic)\n",
        "print(\"Sucesso probabilístico a posteriori:\", sucesso_post_probabilistico)\n",
        "print(\"Degradação probabilística de privacidade:\", sucesso_post_probabilistico / sucesso_priori_probabilistic)\n",
        "\n",
        "print(\"Tempo de execução:\", execution_time, \"segundos\")"
      ],
      "metadata": {
        "id": "dE_A-FWzqfjp"
      },
      "execution_count": null,
      "outputs": []
    },
    {
      "cell_type": "code",
      "source": [
        "qid_attrs = ['NU_DIA_NASCIMENTO', 'NU_MES_NASCIMENTO', 'NU_ANO_NASCIMENTO', 'TP_SEXO', 'TP_COR_RACA', 'CO_MUNICIPIO_NASCIMENTO', 'TP_NACIONALIDADE', 'CO_CURSO', 'TP_ESCOLA_CONCLUSAO_ENS_MEDIO']\n",
        "sensitive_attr = 'IN_FINANCIAMENTO_ESTUDANTIL'\n",
        "data = microdados\n",
        "\n",
        "start_time = time.time()\n",
        "\n",
        "sucesso_priori_deterministic = suc_prior_deterministic(data, sensitive_attr)\n",
        "sucesso_priori_probabilistic = suc_prior_probabilistic(data, sensitive_attr)\n",
        "sucesso_post_deterministico = suc_post_deterministic(data, qid_attrs, sensitive_attr)\n",
        "sucesso_post_probabilistico = suc_post_probabilistic(data, qid_attrs, sensitive_attr)\n",
        "\n",
        "end_time = time.time()\n",
        "execution_time = end_time - start_time\n",
        "\n",
        "print(\"Sucesso determinístico a priori:\", sucesso_priori_deterministic)\n",
        "print(\"Sucesso determinístico a posteriori:\", sucesso_post_deterministico)\n",
        "print(\"Degradação determinística de privacidade:\", sucesso_post_deterministico - sucesso_priori_deterministic)\n",
        "\n",
        "print(\"Sucesso probabilístico a priori:\", sucesso_priori_probabilistic)\n",
        "print(\"Sucesso probabilístico a posteriori:\", sucesso_post_probabilistico)\n",
        "print(\"Degradação probabilística de privacidade:\", sucesso_post_probabilistico / sucesso_priori_probabilistic)\n",
        "\n",
        "print(\"Tempo de execução:\", execution_time, \"segundos\")"
      ],
      "metadata": {
        "id": "MKEYzRjBqf_h"
      },
      "execution_count": null,
      "outputs": []
    },
    {
      "cell_type": "code",
      "source": [
        "qid_attrs = ['NU_DIA_NASCIMENTO', 'NU_MES_NASCIMENTO', 'NU_ANO_NASCIMENTO', 'TP_SEXO', 'TP_COR_RACA', 'CO_MUNICIPIO_NASCIMENTO', 'TP_NACIONALIDADE', 'CO_PAIS_ORIGEM', 'CO_CURSO', 'TP_ESCOLA_CONCLUSAO_ENS_MEDIO']\n",
        "sensitive_attr = 'IN_FINANCIAMENTO_ESTUDANTIL'\n",
        "data = microdados\n",
        "\n",
        "start_time = time.time()\n",
        "\n",
        "sucesso_priori_deterministic = suc_prior_deterministic(data, sensitive_attr)\n",
        "sucesso_priori_probabilistic = suc_prior_probabilistic(data, sensitive_attr)\n",
        "sucesso_post_deterministico = suc_post_deterministic(data, qid_attrs, sensitive_attr)\n",
        "sucesso_post_probabilistico = suc_post_probabilistic(data, qid_attrs, sensitive_attr)\n",
        "\n",
        "end_time = time.time()\n",
        "execution_time = end_time - start_time\n",
        "\n",
        "print(\"Sucesso determinístico a priori:\", sucesso_priori_deterministic)\n",
        "print(\"Sucesso determinístico a posteriori:\", sucesso_post_deterministico)\n",
        "print(\"Degradação determinística de privacidade:\", sucesso_post_deterministico - sucesso_priori_deterministic)\n",
        "\n",
        "print(\"Sucesso probabilístico a priori:\", sucesso_priori_probabilistic)\n",
        "print(\"Sucesso probabilístico a posteriori:\", sucesso_post_probabilistico)\n",
        "print(\"Degradação probabilística de privacidade:\", sucesso_post_probabilistico / sucesso_priori_probabilistic)\n",
        "\n",
        "print(\"Tempo de execução:\", execution_time, \"segundos\")"
      ],
      "metadata": {
        "id": "5rsWhibZqgiZ"
      },
      "execution_count": null,
      "outputs": []
    },
    {
      "cell_type": "code",
      "source": [
        "qid_attrs = ['NU_DIA_NASCIMENTO', 'NU_MES_NASCIMENTO', 'NU_ANO_NASCIMENTO', 'TP_SEXO', 'TP_COR_RACA', 'CO_MUNICIPIO_NASCIMENTO', 'TP_NACIONALIDADE', 'CO_PAIS_ORIGEM', 'CO_IES', 'CO_CURSO', 'TP_ESCOLA_CONCLUSAO_ENS_MEDIO']\n",
        "sensitive_attr = 'IN_FINANCIAMENTO_ESTUDANTIL'\n",
        "data = microdados\n",
        "\n",
        "start_time = time.time()\n",
        "\n",
        "sucesso_priori_deterministic = suc_prior_deterministic(data, sensitive_attr)\n",
        "sucesso_priori_probabilistic = suc_prior_probabilistic(data, sensitive_attr)\n",
        "sucesso_post_deterministico = suc_post_deterministic(data, qid_attrs, sensitive_attr)\n",
        "sucesso_post_probabilistico = suc_post_probabilistic(data, qid_attrs, sensitive_attr)\n",
        "\n",
        "end_time = time.time()\n",
        "execution_time = end_time - start_time\n",
        "\n",
        "print(\"Sucesso determinístico a priori:\", sucesso_priori_deterministic)\n",
        "print(\"Sucesso determinístico a posteriori:\", sucesso_post_deterministico)\n",
        "print(\"Degradação determinística de privacidade:\", sucesso_post_deterministico - sucesso_priori_deterministic)\n",
        "\n",
        "print(\"Sucesso probabilístico a priori:\", sucesso_priori_probabilistic)\n",
        "print(\"Sucesso probabilístico a posteriori:\", sucesso_post_probabilistico)\n",
        "print(\"Degradação probabilística de privacidade:\", sucesso_post_probabilistico / sucesso_priori_probabilistic)\n",
        "\n",
        "print(\"Tempo de execução:\", execution_time, \"segundos\")"
      ],
      "metadata": {
        "id": "UlziauXqqhGx"
      },
      "execution_count": null,
      "outputs": []
    },
    {
      "cell_type": "markdown",
      "source": [
        "##### IN_DEFICIENCIA"
      ],
      "metadata": {
        "id": "8q6agw0WJGLi"
      }
    },
    {
      "cell_type": "markdown",
      "source": [
        "###### Replicando"
      ],
      "metadata": {
        "id": "eVKZ4giM8kdb"
      }
    },
    {
      "cell_type": "code",
      "source": [
        "qid_attrs = ['CO_CURSO']\n",
        "sensitive_attr = 'IN_DEFICIENCIA'\n",
        "data = microdados\n",
        "\n",
        "start_time = time.time()\n",
        "\n",
        "sucesso_priori_deterministic = suc_prior_deterministic(data, sensitive_attr)\n",
        "sucesso_priori_probabilistic = suc_prior_probabilistic(data, sensitive_attr)\n",
        "sucesso_post_deterministico = suc_post_deterministic(data, qid_attrs, sensitive_attr)\n",
        "sucesso_post_probabilistico = suc_post_probabilistic(data, qid_attrs, sensitive_attr)\n",
        "\n",
        "end_time = time.time()\n",
        "execution_time = end_time - start_time\n",
        "\n",
        "print(\"Sucesso determinístico a priori:\", sucesso_priori_deterministic)\n",
        "print(\"Sucesso determinístico a posteriori:\", sucesso_post_deterministico)\n",
        "print(\"Degradação determinística de privacidade:\", sucesso_post_deterministico - sucesso_priori_deterministic)\n",
        "\n",
        "print(\"Sucesso probabilístico a priori:\", sucesso_priori_probabilistic)\n",
        "print(\"Sucesso probabilístico a posteriori:\", sucesso_post_probabilistico)\n",
        "print(\"Degradação probabilística de privacidade:\", sucesso_post_probabilistico / sucesso_priori_probabilistic)\n",
        "\n",
        "print(\"Tempo de execução:\", execution_time, \"segundos\")"
      ],
      "metadata": {
        "id": "pIC4NGAQ8kdc"
      },
      "execution_count": null,
      "outputs": []
    },
    {
      "cell_type": "code",
      "source": [
        "qid_attrs = ['CO_MUNICIPIO_NASCIMENTO', 'CO_CURSO']\n",
        "sensitive_attr = 'IN_DEFICIENCIA'\n",
        "data = microdados\n",
        "\n",
        "start_time = time.time()\n",
        "\n",
        "sucesso_priori_deterministic = suc_prior_deterministic(data, sensitive_attr)\n",
        "sucesso_priori_probabilistic = suc_prior_probabilistic(data, sensitive_attr)\n",
        "sucesso_post_deterministico = suc_post_deterministic(data, qid_attrs, sensitive_attr)\n",
        "sucesso_post_probabilistico = suc_post_probabilistic(data, qid_attrs, sensitive_attr)\n",
        "\n",
        "end_time = time.time()\n",
        "execution_time = end_time - start_time\n",
        "\n",
        "print(\"Sucesso determinístico a priori:\", sucesso_priori_deterministic)\n",
        "print(\"Sucesso determinístico a posteriori:\", sucesso_post_deterministico)\n",
        "print(\"Degradação determinística de privacidade:\", sucesso_post_deterministico - sucesso_priori_deterministic)\n",
        "\n",
        "print(\"Sucesso probabilístico a priori:\", sucesso_priori_probabilistic)\n",
        "print(\"Sucesso probabilístico a posteriori:\", sucesso_post_probabilistico)\n",
        "print(\"Degradação probabilística de privacidade:\", sucesso_post_probabilistico / sucesso_priori_probabilistic)\n",
        "\n",
        "print(\"Tempo de execução:\", execution_time, \"segundos\")"
      ],
      "metadata": {
        "id": "ZseXlaDK8kdc"
      },
      "execution_count": null,
      "outputs": []
    },
    {
      "cell_type": "code",
      "source": [
        "qid_attrs = ['NU_DIA_NASCIMENTO', 'CO_CURSO']\n",
        "sensitive_attr = 'IN_DEFICIENCIA'\n",
        "data = microdados\n",
        "\n",
        "start_time = time.time()\n",
        "\n",
        "sucesso_priori_deterministic = suc_prior_deterministic(data, sensitive_attr)\n",
        "sucesso_priori_probabilistic = suc_prior_probabilistic(data, sensitive_attr)\n",
        "sucesso_post_deterministico = suc_post_deterministic(data, qid_attrs, sensitive_attr)\n",
        "sucesso_post_probabilistico = suc_post_probabilistic(data, qid_attrs, sensitive_attr)\n",
        "\n",
        "end_time = time.time()\n",
        "execution_time = end_time - start_time\n",
        "\n",
        "print(\"Sucesso determinístico a priori:\", sucesso_priori_deterministic)\n",
        "print(\"Sucesso determinístico a posteriori:\", sucesso_post_deterministico)\n",
        "print(\"Degradação determinística de privacidade:\", sucesso_post_deterministico - sucesso_priori_deterministic)\n",
        "\n",
        "print(\"Sucesso probabilístico a priori:\", sucesso_priori_probabilistic)\n",
        "print(\"Sucesso probabilístico a posteriori:\", sucesso_post_probabilistico)\n",
        "print(\"Degradação probabilística de privacidade:\", sucesso_post_probabilistico / sucesso_priori_probabilistic)\n",
        "\n",
        "print(\"Tempo de execução:\", execution_time, \"segundos\")"
      ],
      "metadata": {
        "id": "zZp6riMI8kdd"
      },
      "execution_count": null,
      "outputs": []
    },
    {
      "cell_type": "code",
      "source": [
        "qid_attrs = ['NU_DIA_NASCIMENTO', 'NU_ANO_NASCIMENTO', 'CO_CURSO']\n",
        "sensitive_attr = 'IN_DEFICIENCIA'\n",
        "data = microdados\n",
        "\n",
        "start_time = time.time()\n",
        "\n",
        "sucesso_priori_deterministic = suc_prior_deterministic(data, sensitive_attr)\n",
        "sucesso_priori_probabilistic = suc_prior_probabilistic(data, sensitive_attr)\n",
        "sucesso_post_deterministico = suc_post_deterministic(data, qid_attrs, sensitive_attr)\n",
        "sucesso_post_probabilistico = suc_post_probabilistic(data, qid_attrs, sensitive_attr)\n",
        "\n",
        "end_time = time.time()\n",
        "execution_time = end_time - start_time\n",
        "\n",
        "print(\"Sucesso determinístico a priori:\", sucesso_priori_deterministic)\n",
        "print(\"Sucesso determinístico a posteriori:\", sucesso_post_deterministico)\n",
        "print(\"Degradação determinística de privacidade:\", sucesso_post_deterministico - sucesso_priori_deterministic)\n",
        "\n",
        "print(\"Sucesso probabilístico a priori:\", sucesso_priori_probabilistic)\n",
        "print(\"Sucesso probabilístico a posteriori:\", sucesso_post_probabilistico)\n",
        "print(\"Degradação probabilística de privacidade:\", sucesso_post_probabilistico / sucesso_priori_probabilistic)\n",
        "\n",
        "print(\"Tempo de execução:\", execution_time, \"segundos\")"
      ],
      "metadata": {
        "id": "sT5P3aC_8kdd"
      },
      "execution_count": null,
      "outputs": []
    },
    {
      "cell_type": "code",
      "source": [
        "qid_attrs = ['NU_DIA_NASCIMENTO', 'NU_MES_NASCIMENTO', 'NU_ANO_NASCIMENTO', 'CO_CURSO']\n",
        "sensitive_attr = 'IN_DEFICIENCIA'\n",
        "data = microdados\n",
        "\n",
        "start_time = time.time()\n",
        "\n",
        "sucesso_priori_deterministic = suc_prior_deterministic(data, sensitive_attr)\n",
        "sucesso_priori_probabilistic = suc_prior_probabilistic(data, sensitive_attr)\n",
        "sucesso_post_deterministico = suc_post_deterministic(data, qid_attrs, sensitive_attr)\n",
        "sucesso_post_probabilistico = suc_post_probabilistic(data, qid_attrs, sensitive_attr)\n",
        "\n",
        "end_time = time.time()\n",
        "execution_time = end_time - start_time\n",
        "\n",
        "print(\"Sucesso determinístico a priori:\", sucesso_priori_deterministic)\n",
        "print(\"Sucesso determinístico a posteriori:\", sucesso_post_deterministico)\n",
        "print(\"Degradação determinística de privacidade:\", sucesso_post_deterministico - sucesso_priori_deterministic)\n",
        "\n",
        "print(\"Sucesso probabilístico a priori:\", sucesso_priori_probabilistic)\n",
        "print(\"Sucesso probabilístico a posteriori:\", sucesso_post_probabilistico)\n",
        "print(\"Degradação probabilística de privacidade:\", sucesso_post_probabilistico / sucesso_priori_probabilistic)\n",
        "\n",
        "print(\"Tempo de execução:\", execution_time, \"segundos\")"
      ],
      "metadata": {
        "id": "loz-6pmSZtSq"
      },
      "execution_count": null,
      "outputs": []
    },
    {
      "cell_type": "code",
      "source": [
        "qid_attrs = ['NU_DIA_NASCIMENTO', 'NU_MES_NASCIMENTO', 'NU_ANO_NASCIMENTO', 'CO_MUNICIPIO_NASCIMENTO', 'CO_CURSO']\n",
        "sensitive_attr = 'IN_DEFICIENCIA'\n",
        "data = microdados\n",
        "\n",
        "start_time = time.time()\n",
        "\n",
        "sucesso_priori_deterministic = suc_prior_deterministic(data, sensitive_attr)\n",
        "sucesso_priori_probabilistic = suc_prior_probabilistic(data, sensitive_attr)\n",
        "sucesso_post_deterministico = suc_post_deterministic(data, qid_attrs, sensitive_attr)\n",
        "sucesso_post_probabilistico = suc_post_probabilistic(data, qid_attrs, sensitive_attr)\n",
        "\n",
        "end_time = time.time()\n",
        "execution_time = end_time - start_time\n",
        "\n",
        "print(\"Sucesso determinístico a priori:\", sucesso_priori_deterministic)\n",
        "print(\"Sucesso determinístico a posteriori:\", sucesso_post_deterministico)\n",
        "print(\"Degradação determinística de privacidade:\", sucesso_post_deterministico - sucesso_priori_deterministic)\n",
        "\n",
        "print(\"Sucesso probabilístico a priori:\", sucesso_priori_probabilistic)\n",
        "print(\"Sucesso probabilístico a posteriori:\", sucesso_post_probabilistico)\n",
        "print(\"Degradação probabilística de privacidade:\", sucesso_post_probabilistico / sucesso_priori_probabilistic)\n",
        "\n",
        "print(\"Tempo de execução:\", execution_time, \"segundos\")"
      ],
      "metadata": {
        "id": "65A7DUK48kdd"
      },
      "execution_count": null,
      "outputs": []
    },
    {
      "cell_type": "code",
      "source": [
        "qid_attrs = ['NU_DIA_NASCIMENTO', 'NU_MES_NASCIMENTO', 'NU_ANO_NASCIMENTO', 'TP_COR_RACA', 'CO_MUNICIPIO_NASCIMENTO', 'CO_CURSO']\n",
        "sensitive_attr = 'IN_DEFICIENCIA'\n",
        "data = microdados\n",
        "\n",
        "start_time = time.time()\n",
        "\n",
        "sucesso_priori_deterministic = suc_prior_deterministic(data, sensitive_attr)\n",
        "sucesso_priori_probabilistic = suc_prior_probabilistic(data, sensitive_attr)\n",
        "sucesso_post_deterministico = suc_post_deterministic(data, qid_attrs, sensitive_attr)\n",
        "sucesso_post_probabilistico = suc_post_probabilistic(data, qid_attrs, sensitive_attr)\n",
        "\n",
        "end_time = time.time()\n",
        "execution_time = end_time - start_time\n",
        "\n",
        "print(\"Sucesso determinístico a priori:\", sucesso_priori_deterministic)\n",
        "print(\"Sucesso determinístico a posteriori:\", sucesso_post_deterministico)\n",
        "print(\"Degradação determinística de privacidade:\", sucesso_post_deterministico - sucesso_priori_deterministic)\n",
        "\n",
        "print(\"Sucesso probabilístico a priori:\", sucesso_priori_probabilistic)\n",
        "print(\"Sucesso probabilístico a posteriori:\", sucesso_post_probabilistico)\n",
        "print(\"Degradação probabilística de privacidade:\", sucesso_post_probabilistico / sucesso_priori_probabilistic)\n",
        "\n",
        "print(\"Tempo de execução:\", execution_time, \"segundos\")"
      ],
      "metadata": {
        "id": "BvI6xyZ18kde"
      },
      "execution_count": null,
      "outputs": []
    },
    {
      "cell_type": "code",
      "source": [
        "qid_attrs = ['NU_DIA_NASCIMENTO', 'NU_MES_NASCIMENTO', 'NU_ANO_NASCIMENTO', 'TP_SEXO', 'TP_COR_RACA', 'CO_MUNICIPIO_NASCIMENTO', 'CO_CURSO']\n",
        "sensitive_attr = 'IN_DEFICIENCIA'\n",
        "data = microdados\n",
        "\n",
        "start_time = time.time()\n",
        "\n",
        "sucesso_priori_deterministic = suc_prior_deterministic(data, sensitive_attr)\n",
        "sucesso_priori_probabilistic = suc_prior_probabilistic(data, sensitive_attr)\n",
        "sucesso_post_deterministico = suc_post_deterministic(data, qid_attrs, sensitive_attr)\n",
        "sucesso_post_probabilistico = suc_post_probabilistic(data, qid_attrs, sensitive_attr)\n",
        "\n",
        "end_time = time.time()\n",
        "execution_time = end_time - start_time\n",
        "\n",
        "print(\"Sucesso determinístico a priori:\", sucesso_priori_deterministic)\n",
        "print(\"Sucesso determinístico a posteriori:\", sucesso_post_deterministico)\n",
        "print(\"Degradação determinística de privacidade:\", sucesso_post_deterministico - sucesso_priori_deterministic)\n",
        "\n",
        "print(\"Sucesso probabilístico a priori:\", sucesso_priori_probabilistic)\n",
        "print(\"Sucesso probabilístico a posteriori:\", sucesso_post_probabilistico)\n",
        "print(\"Degradação probabilística de privacidade:\", sucesso_post_probabilistico / sucesso_priori_probabilistic)\n",
        "\n",
        "print(\"Tempo de execução:\", execution_time, \"segundos\")"
      ],
      "metadata": {
        "id": "nTh00Xx38kde"
      },
      "execution_count": null,
      "outputs": []
    },
    {
      "cell_type": "code",
      "source": [
        "qid_attrs = ['NU_DIA_NASCIMENTO', 'NU_MES_NASCIMENTO', 'NU_ANO_NASCIMENTO', 'TP_SEXO', 'TP_COR_RACA', 'CO_MUNICIPIO_NASCIMENTO', 'CO_CURSO', 'TP_ESCOLA_CONCLUSAO_ENS_MEDIO']\n",
        "sensitive_attr = 'IN_DEFICIENCIA'\n",
        "data = microdados\n",
        "\n",
        "start_time = time.time()\n",
        "\n",
        "sucesso_priori_deterministic = suc_prior_deterministic(data, sensitive_attr)\n",
        "sucesso_priori_probabilistic = suc_prior_probabilistic(data, sensitive_attr)\n",
        "sucesso_post_deterministico = suc_post_deterministic(data, qid_attrs, sensitive_attr)\n",
        "sucesso_post_probabilistico = suc_post_probabilistic(data, qid_attrs, sensitive_attr)\n",
        "\n",
        "end_time = time.time()\n",
        "execution_time = end_time - start_time\n",
        "\n",
        "print(\"Sucesso determinístico a priori:\", sucesso_priori_deterministic)\n",
        "print(\"Sucesso determinístico a posteriori:\", sucesso_post_deterministico)\n",
        "print(\"Degradação determinística de privacidade:\", sucesso_post_deterministico - sucesso_priori_deterministic)\n",
        "\n",
        "print(\"Sucesso probabilístico a priori:\", sucesso_priori_probabilistic)\n",
        "print(\"Sucesso probabilístico a posteriori:\", sucesso_post_probabilistico)\n",
        "print(\"Degradação probabilística de privacidade:\", sucesso_post_probabilistico / sucesso_priori_probabilistic)\n",
        "\n",
        "print(\"Tempo de execução:\", execution_time, \"segundos\")"
      ],
      "metadata": {
        "id": "JzsxqMGa8kde"
      },
      "execution_count": null,
      "outputs": []
    },
    {
      "cell_type": "code",
      "source": [
        "qid_attrs = ['NU_DIA_NASCIMENTO', 'NU_MES_NASCIMENTO', 'NU_ANO_NASCIMENTO', 'TP_SEXO', 'TP_COR_RACA', 'CO_MUNICIPIO_NASCIMENTO', 'TP_NACIONALIDADE', 'CO_CURSO', 'TP_ESCOLA_CONCLUSAO_ENS_MEDIO']\n",
        "sensitive_attr = 'IN_DEFICIENCIA'\n",
        "data = microdados\n",
        "\n",
        "start_time = time.time()\n",
        "\n",
        "sucesso_priori_deterministic = suc_prior_deterministic(data, sensitive_attr)\n",
        "sucesso_priori_probabilistic = suc_prior_probabilistic(data, sensitive_attr)\n",
        "sucesso_post_deterministico = suc_post_deterministic(data, qid_attrs, sensitive_attr)\n",
        "sucesso_post_probabilistico = suc_post_probabilistic(data, qid_attrs, sensitive_attr)\n",
        "\n",
        "end_time = time.time()\n",
        "execution_time = end_time - start_time\n",
        "\n",
        "print(\"Sucesso determinístico a priori:\", sucesso_priori_deterministic)\n",
        "print(\"Sucesso determinístico a posteriori:\", sucesso_post_deterministico)\n",
        "print(\"Degradação determinística de privacidade:\", sucesso_post_deterministico - sucesso_priori_deterministic)\n",
        "\n",
        "print(\"Sucesso probabilístico a priori:\", sucesso_priori_probabilistic)\n",
        "print(\"Sucesso probabilístico a posteriori:\", sucesso_post_probabilistico)\n",
        "print(\"Degradação probabilística de privacidade:\", sucesso_post_probabilistico / sucesso_priori_probabilistic)\n",
        "\n",
        "print(\"Tempo de execução:\", execution_time, \"segundos\")"
      ],
      "metadata": {
        "id": "F1XUjNJh8kde"
      },
      "execution_count": null,
      "outputs": []
    },
    {
      "cell_type": "code",
      "source": [
        "qid_attrs = ['NU_DIA_NASCIMENTO', 'NU_MES_NASCIMENTO', 'NU_ANO_NASCIMENTO', 'TP_SEXO', 'TP_COR_RACA', 'CO_MUNICIPIO_NASCIMENTO', 'TP_NACIONALIDADE', 'CO_PAIS_ORIGEM', 'CO_CURSO', 'TP_ESCOLA_CONCLUSAO_ENS_MEDIO']\n",
        "sensitive_attr = 'IN_DEFICIENCIA'\n",
        "data = microdados\n",
        "\n",
        "start_time = time.time()\n",
        "\n",
        "sucesso_priori_deterministic = suc_prior_deterministic(data, sensitive_attr)\n",
        "sucesso_priori_probabilistic = suc_prior_probabilistic(data, sensitive_attr)\n",
        "sucesso_post_deterministico = suc_post_deterministic(data, qid_attrs, sensitive_attr)\n",
        "sucesso_post_probabilistico = suc_post_probabilistic(data, qid_attrs, sensitive_attr)\n",
        "\n",
        "end_time = time.time()\n",
        "execution_time = end_time - start_time\n",
        "\n",
        "print(\"Sucesso determinístico a priori:\", sucesso_priori_deterministic)\n",
        "print(\"Sucesso determinístico a posteriori:\", sucesso_post_deterministico)\n",
        "print(\"Degradação determinística de privacidade:\", sucesso_post_deterministico - sucesso_priori_deterministic)\n",
        "\n",
        "print(\"Sucesso probabilístico a priori:\", sucesso_priori_probabilistic)\n",
        "print(\"Sucesso probabilístico a posteriori:\", sucesso_post_probabilistico)\n",
        "print(\"Degradação probabilística de privacidade:\", sucesso_post_probabilistico / sucesso_priori_probabilistic)\n",
        "\n",
        "print(\"Tempo de execução:\", execution_time, \"segundos\")"
      ],
      "metadata": {
        "id": "pZAYECMt8kde"
      },
      "execution_count": null,
      "outputs": []
    },
    {
      "cell_type": "code",
      "source": [
        "qid_attrs = ['NU_DIA_NASCIMENTO', 'NU_MES_NASCIMENTO', 'NU_ANO_NASCIMENTO', 'TP_SEXO', 'TP_COR_RACA', 'CO_MUNICIPIO_NASCIMENTO', 'TP_NACIONALIDADE', 'CO_PAIS_ORIGEM', 'CO_IES', 'CO_CURSO', 'TP_ESCOLA_CONCLUSAO_ENS_MEDIO']\n",
        "sensitive_attr = 'IN_DEFICIENCIA'\n",
        "data = microdados\n",
        "\n",
        "start_time = time.time()\n",
        "\n",
        "sucesso_priori_deterministic = suc_prior_deterministic(data, sensitive_attr)\n",
        "sucesso_priori_probabilistic = suc_prior_probabilistic(data, sensitive_attr)\n",
        "sucesso_post_deterministico = suc_post_deterministic(data, qid_attrs, sensitive_attr)\n",
        "sucesso_post_probabilistico = suc_post_probabilistic(data, qid_attrs, sensitive_attr)\n",
        "\n",
        "end_time = time.time()\n",
        "execution_time = end_time - start_time\n",
        "\n",
        "print(\"Sucesso determinístico a priori:\", sucesso_priori_deterministic)\n",
        "print(\"Sucesso determinístico a posteriori:\", sucesso_post_deterministico)\n",
        "print(\"Degradação determinística de privacidade:\", sucesso_post_deterministico - sucesso_priori_deterministic)\n",
        "\n",
        "print(\"Sucesso probabilístico a priori:\", sucesso_priori_probabilistic)\n",
        "print(\"Sucesso probabilístico a posteriori:\", sucesso_post_probabilistico)\n",
        "print(\"Degradação probabilística de privacidade:\", sucesso_post_probabilistico / sucesso_priori_probabilistic)\n",
        "\n",
        "print(\"Tempo de execução:\", execution_time, \"segundos\")"
      ],
      "metadata": {
        "id": "xtJWI_JZ8kde"
      },
      "execution_count": null,
      "outputs": []
    }
  ],
  "metadata": {
    "colab": {
      "collapsed_sections": [
        "CKMEWyLrDbqt"
      ],
      "provenance": [],
      "toc_visible": true
    },
    "kernelspec": {
      "display_name": "Python 3",
      "name": "python3"
    },
    "language_info": {
      "name": "python"
    }
  },
  "nbformat": 4,
  "nbformat_minor": 0
}